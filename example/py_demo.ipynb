{
 "cells": [
  {
   "cell_type": "code",
   "execution_count": null,
   "metadata": {},
   "outputs": [],
   "source": [
    "import cv2\n",
    "import numpy as np\n",
    "from apriltag import apriltag"
   ]
  },
  {
   "cell_type": "code",
   "execution_count": null,
   "metadata": {},
   "outputs": [],
   "source": [
    "imagepath = 'non_nested_000_resized.jpg'\n",
    "image = cv2.imread(imagepath, cv2.IMREAD_GRAYSCALE)\n",
    "detector = apriltag(\"tag36h11\")\n",
    "\n",
    "detections = detector.detect(image)\n",
    "detections"
   ]
  },
  {
   "cell_type": "code",
   "execution_count": null,
   "metadata": {},
   "outputs": [],
   "source": [
    "imagepath = 'nested_000_resized.jpg'\n",
    "image = cv2.imread(imagepath, cv2.IMREAD_GRAYSCALE)\n",
    "detector = apriltag(\"tagCustom52h12\")\n",
    "\n",
    "detections = detector.detect(image)\n",
    "detections"
   ]
  }
 ],
 "metadata": {
  "interpreter": {
   "hash": "b8e57ee49c9b211ae8ae8925d79a52dbcc8979c5220020d11226d0abad72eb2c"
  },
  "kernelspec": {
   "display_name": "Python 3.10.5 64-bit ('ae483': conda)",
   "language": "python",
   "name": "python3"
  },
  "language_info": {
   "codemirror_mode": {
    "name": "ipython",
    "version": 3
   },
   "file_extension": ".py",
   "mimetype": "text/x-python",
   "name": "python",
   "nbconvert_exporter": "python",
   "pygments_lexer": "ipython3",
   "version": "3.10.5"
  },
  "orig_nbformat": 4
 },
 "nbformat": 4,
 "nbformat_minor": 2
}
