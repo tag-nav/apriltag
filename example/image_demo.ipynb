{
 "cells": [
  {
   "cell_type": "code",
   "execution_count": null,
   "metadata": {},
   "outputs": [],
   "source": [
    "import cv2\n",
    "import numpy as np\n",
    "import matplotlib.pyplot as plt\n",
    "from apriltag import apriltag"
   ]
  },
  {
   "cell_type": "code",
   "execution_count": null,
   "metadata": {},
   "outputs": [],
   "source": [
    "def annotate_detections(img, detections, thickness=2):\n",
    "    '''\n",
    "    Add annotations of the AprilTag detection results on the input image.\n",
    "\n",
    "    Args:\n",
    "        img (numpy.ndarray): The image on which detection results will be annotated.\n",
    "        detections (tuple): The tuple containing dictionaries of AprilTag detection results after running detector.detect().\n",
    "        thickness (int): Thickness of annotation boxes and texts.\n",
    "\n",
    "    Returns:\n",
    "        None\n",
    "\n",
    "    Example Usage:\n",
    "        annotate_detections(img, detections)\n",
    "    '''\n",
    "\n",
    "    # Loop through each detection in the input detection list\n",
    "    for detection in detections:\n",
    "\n",
    "        # Define the pixel coordinates of the four corners of the quadrilateral\n",
    "        corners = detection['lb-rb-rt-lt'].astype(np.int32)\n",
    "\n",
    "        # Reshape the corners to a 2D array of shape (4, 1, 2)\n",
    "        corners = corners.reshape((-1, 1, 2))\n",
    "\n",
    "        # Draw a box around the quadrilateral on the input image\n",
    "        cv2.polylines(img, [corners], True, (255, 0, 0), thickness)\n",
    "\n",
    "        # Define the text to be displayed\n",
    "        text = f\"id: {detection['id']}\"\n",
    "\n",
    "        # Define the pixel coordinates of the text on the image\n",
    "        loc = detection['center'].astype(np.int32)\n",
    "\n",
    "        # Draw the text on the input image at the specified location\n",
    "        cv2.putText(img, text, loc, cv2.FONT_HERSHEY_SIMPLEX, 1, (255, 0, 0), thickness)"
   ]
  },
  {
   "cell_type": "markdown",
   "metadata": {},
   "source": [
    "### Detection example on the non-nested layout (tag36h11)"
   ]
  },
  {
   "cell_type": "code",
   "execution_count": null,
   "metadata": {},
   "outputs": [],
   "source": [
    "# Load an image\n",
    "im_path = '../img/non_nested_TLOF.png'\n",
    "im = cv2.imread(im_path, cv2.IMREAD_COLOR)\n",
    "\n",
    "# Create an Apriltag detector\n",
    "detector = apriltag(\"tag36h11\")\n",
    "\n",
    "# Detect Apriltags (Beware: input image data should be in grayscale)\n",
    "detections = detector.detect(cv2.cvtColor(im, cv2.COLOR_BGR2GRAY))\n",
    "\n",
    "# Print detection results\n",
    "print(detections)\n",
    "\n",
    "# Plot detection results\n",
    "annotate_detections(im, detections, thickness=20)\n",
    "plt.imshow(im)"
   ]
  },
  {
   "cell_type": "markdown",
   "metadata": {},
   "source": [
    "### Detection example on the nested layout (tagCustom52h12)"
   ]
  },
  {
   "cell_type": "code",
   "execution_count": null,
   "metadata": {},
   "outputs": [],
   "source": [
    "# Load an image\n",
    "im_path = '../img/nested_TLOF.png'\n",
    "im = cv2.imread(im_path, cv2.IMREAD_COLOR)\n",
    "\n",
    "# Create an Apriltag detector\n",
    "detector = apriltag(\"tagCustom52h12\")\n",
    "\n",
    "# Detect Apriltags (Beware: input image data should be in grayscale)\n",
    "detections = detector.detect(cv2.cvtColor(im, cv2.COLOR_BGR2GRAY))\n",
    "\n",
    "# Print detection results\n",
    "print(detections)\n",
    "\n",
    "# Plot detection results\n",
    "annotate_detections(im, detections, thickness=20)\n",
    "plt.imshow(im)"
   ]
  }
 ],
 "metadata": {
  "interpreter": {
   "hash": "b8e57ee49c9b211ae8ae8925d79a52dbcc8979c5220020d11226d0abad72eb2c"
  },
  "kernelspec": {
   "display_name": "Python 3.10.5 64-bit ('ae483': conda)",
   "language": "python",
   "name": "python3"
  },
  "language_info": {
   "codemirror_mode": {
    "name": "ipython",
    "version": 3
   },
   "file_extension": ".py",
   "mimetype": "text/x-python",
   "name": "python",
   "nbconvert_exporter": "python",
   "pygments_lexer": "ipython3",
   "version": "3.10.5"
  },
  "orig_nbformat": 4
 },
 "nbformat": 4,
 "nbformat_minor": 2
}
